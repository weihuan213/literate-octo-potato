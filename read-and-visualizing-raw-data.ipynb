{
 "cells": [
  {
   "cell_type": "code",
   "execution_count": 1,
   "metadata": {},
   "outputs": [
    {
     "name": "stdout",
     "output_type": "stream",
     "text": [
      "0.23.0\n"
     ]
    }
   ],
   "source": [
    "import mne\n",
    "import matplotlib\n",
    "import pathlib\n",
    "print(mne.__version__)"
   ]
  },
  {
   "cell_type": "code",
   "execution_count": 2,
   "metadata": {},
   "outputs": [],
   "source": [
    "matplotlib.use('Qt5Agg')"
   ]
  },
  {
   "cell_type": "code",
   "execution_count": 3,
   "metadata": {},
   "outputs": [
    {
     "data": {
      "text/plain": [
       "WindowsPath('D:/研究生/mne/mne_data/MNE-sample-data')"
      ]
     },
     "execution_count": 3,
     "metadata": {},
     "output_type": "execute_result"
    }
   ],
   "source": [
    "# sample_data_dir = mne.datasets.sample.data_path()\n",
    "\n",
    "data_path = 'D:\\\\研究生\\\\mne\\\\mne_data\\\\MNE-sample-data'\n",
    "sample_data_dir = pathlib.Path(data_path)\n",
    "sample_data_dir"
   ]
  },
  {
   "cell_type": "code",
   "execution_count": 4,
   "metadata": {},
   "outputs": [
    {
     "name": "stdout",
     "output_type": "stream",
     "text": [
      "Opening raw data file D:\\研究生\\mne\\mne_data\\MNE-sample-data\\MEG\\sample\\sample_audvis_raw.fif...\n",
      "    Read a total of 3 projection items:\n",
      "        PCA-v1 (1 x 102)  idle\n",
      "        PCA-v2 (1 x 102)  idle\n",
      "        PCA-v3 (1 x 102)  idle\n",
      "    Range : 25800 ... 192599 =     42.956 ...   320.670 secs\n",
      "Ready.\n"
     ]
    },
    {
     "data": {
      "text/html": [
       "\n",
       "\n",
       "<table class=\"table table-hover\">\n",
       "    <tr>\n",
       "        <th>Measurement date</th>\n",
       "        <td>December 03, 2002  19:01:10 GMT</td>\n",
       "        \n",
       "    </tr>\n",
       "    <tr>\n",
       "        <th>Experimenter</th>\n",
       "        <td>MEG</td>\n",
       "        \n",
       "    </tr>\n",
       "        <th>Participant</th>\n",
       "<td>Unknown</td>\n",
       "    </tr>\n",
       "    <tr>\n",
       "        <th>Digitized points</th>\n",
       "        <td>146 points</td>\n",
       "    </tr>\n",
       "    <tr>\n",
       "        <th>Good channels</th>\n",
       "        <td>102 magnetometer, 203 gradiometer,\n",
       "            and 59 EEG channels</td>\n",
       "    </tr>\n",
       "    <tr>\n",
       "        <th>Bad channels</th>\n",
       "        <td>MEG 2443, EEG 053</td>\n",
       "        \n",
       "    </tr>\n",
       "    <tr>\n",
       "        <th>EOG channels</th>\n",
       "        <td>EOG 061</td>\n",
       "    </tr>\n",
       "    <tr>\n",
       "        <th>ECG channels</th>\n",
       "        <td>Not available</td>\n",
       "    <tr>\n",
       "        <th>Sampling frequency</th>\n",
       "        <td>600.61 Hz</td>\n",
       "    </tr>\n",
       "    <tr>\n",
       "        <th>Highpass</th>\n",
       "        <td>0.10 Hz</td>\n",
       "    </tr>\n",
       "     <tr>\n",
       "        <th>Lowpass</th>\n",
       "        <td>172.18 Hz</td>\n",
       "    </tr>\n",
       "\n",
       "    <tr>\n",
       "        <th>Filenames</th>\n",
       "        <td>sample_audvis_raw.fif</td>\n",
       "    </tr>\n",
       "    <tr>\n",
       "        <th>Duration</th>\n",
       "        <td>00:04:37 (HH:MM:SS)</td>\n",
       "    </tr>\n",
       "</table>\n"
      ],
      "text/plain": [
       "<Raw | sample_audvis_raw.fif, 376 x 166800 (277.7 s), ~3.3 MB, data not loaded>"
      ]
     },
     "execution_count": 4,
     "metadata": {},
     "output_type": "execute_result"
    }
   ],
   "source": [
    "raw_path = sample_data_dir / 'MEG' / 'sample' / 'sample_audvis_raw.fif'\n",
    "raw = mne.io.read_raw(raw_path)\n",
    "raw"
   ]
  },
  {
   "cell_type": "code",
   "execution_count": 5,
   "metadata": {},
   "outputs": [
    {
     "data": {
      "text/plain": [
       "<MNEBrowseFigure size 1280x960 with 5 Axes>"
      ]
     },
     "execution_count": 5,
     "metadata": {},
     "output_type": "execute_result"
    }
   ],
   "source": [
    "raw.plot()"
   ]
  },
  {
   "cell_type": "markdown",
   "metadata": {},
   "source": [
    "从电兴奋通道提取出事件"
   ]
  },
  {
   "cell_type": "code",
   "execution_count": 6,
   "metadata": {},
   "outputs": [
    {
     "name": "stdout",
     "output_type": "stream",
     "text": [
      "320 events found\n",
      "Event IDs: [ 1  2  3  4  5 32]\n"
     ]
    }
   ],
   "source": [
    "events = mne.find_events(raw)"
   ]
  },
  {
   "cell_type": "code",
   "execution_count": 7,
   "metadata": {},
   "outputs": [],
   "source": [
    "event_id = {\n",
    "    'Auditory/Left': 1,\n",
    "    'Auditory/Right': 2,\n",
    "    'Visual/left': 3,\n",
    "    'Visual/Right': 4,\n",
    "    'Smiley': 5,\n",
    "    'Button': 32,\n",
    "}"
   ]
  },
  {
   "cell_type": "code",
   "execution_count": 8,
   "metadata": {},
   "outputs": [
    {
     "data": {
      "text/plain": [
       "array([[ 27977,      0,      2],\n",
       "       [ 28345,      0,      3],\n",
       "       [ 28771,      0,      1],\n",
       "       [ 29219,      0,      4],\n",
       "       [ 29652,      0,      2],\n",
       "       [ 30025,      0,      3],\n",
       "       [ 30450,      0,      1],\n",
       "       [ 30839,      0,      4],\n",
       "       [ 31240,      0,      2],\n",
       "       [ 31665,      0,      3],\n",
       "       [ 32101,      0,      1],\n",
       "       [ 32519,      0,      4],\n",
       "       [ 32935,      0,      2],\n",
       "       [ 33325,      0,      3],\n",
       "       [ 33712,      0,      1],\n",
       "       [ 34089,      0,      5],\n",
       "       [ 34532,      0,      2],\n",
       "       [ 34649,      0,     32],\n",
       "       [ 34956,      0,      3],\n",
       "       [ 35428,      0,      1],\n",
       "       [ 35850,      0,      4],\n",
       "       [ 36211,      0,      2],\n",
       "       [ 36576,      0,      3],\n",
       "       [ 37007,      0,      1],\n",
       "       [ 37460,      0,      4],\n",
       "       [ 37910,      0,      2],\n",
       "       [ 38326,      0,      3],\n",
       "       [ 38711,      0,      1],\n",
       "       [ 39130,      0,      4],\n",
       "       [ 39563,      0,      2],\n",
       "       [ 39926,      0,      3],\n",
       "       [ 40405,      0,      1],\n",
       "       [ 40880,      0,      4],\n",
       "       [ 41260,      0,      2],\n",
       "       [ 41646,      0,      3],\n",
       "       [ 42126,      0,      1],\n",
       "       [ 42598,      0,      5],\n",
       "       [ 42938,      0,     32],\n",
       "       [ 42960,      0,      2],\n",
       "       [ 43346,      0,      3],\n",
       "       [ 43781,      0,      1],\n",
       "       [ 44170,      0,      4],\n",
       "       [ 44649,      0,      2],\n",
       "       [ 45115,      0,      3],\n",
       "       [ 45486,      0,      1],\n",
       "       [ 45860,      0,      4],\n",
       "       [ 46240,      0,      2],\n",
       "       [ 46686,      0,      3],\n",
       "       [ 47095,      0,      1],\n",
       "       [ 47530,      0,      4],\n",
       "       [ 47895,      0,      2],\n",
       "       [ 48287,      0,      3],\n",
       "       [ 48722,      0,      1],\n",
       "       [ 49101,      0,      4],\n",
       "       [ 49469,      0,      2],\n",
       "       [ 49897,      0,      3],\n",
       "       [ 50269,      0,      1],\n",
       "       [ 50682,      0,      4],\n",
       "       [ 51046,      0,      2],\n",
       "       [ 51437,      0,      5],\n",
       "       [ 51803,      0,     32],\n",
       "       [ 51881,      0,      1],\n",
       "       [ 52252,      0,      4],\n",
       "       [ 52675,      0,      2],\n",
       "       [ 53118,      0,      3],\n",
       "       [ 53494,      0,      1],\n",
       "       [ 53912,      0,      4],\n",
       "       [ 54320,      0,      2],\n",
       "       [ 54699,      0,      3],\n",
       "       [ 55100,      0,      1],\n",
       "       [ 55463,      0,      4],\n",
       "       [ 55878,      0,      2],\n",
       "       [ 56269,      0,      3],\n",
       "       [ 56717,      0,      1],\n",
       "       [ 57183,      0,      4],\n",
       "       [ 57612,      0,      2],\n",
       "       [ 58079,      0,      3],\n",
       "       [ 58448,      0,      1],\n",
       "       [ 58913,      0,      4],\n",
       "       [ 59320,      0,      5],\n",
       "       [ 59677,      0,     32],\n",
       "       [ 59739,      0,      3],\n",
       "       [ 60129,      0,      1],\n",
       "       [ 60563,      0,      4],\n",
       "       [ 61035,      0,      2],\n",
       "       [ 61458,      0,      3],\n",
       "       [ 61868,      0,      1],\n",
       "       [ 62283,      0,      4],\n",
       "       [ 62682,      0,      2],\n",
       "       [ 63069,      0,      3],\n",
       "       [ 63532,      0,      1],\n",
       "       [ 63923,      0,      4],\n",
       "       [ 64387,      0,      2],\n",
       "       [ 64769,      0,      3],\n",
       "       [ 65181,      0,      1],\n",
       "       [ 65643,      0,      4],\n",
       "       [ 66071,      0,      2],\n",
       "       [ 66538,      0,      3],\n",
       "       [ 66964,      0,      1],\n",
       "       [ 67401,      0,      5],\n",
       "       [ 67782,      0,     32],\n",
       "       [ 67811,      0,      2],\n",
       "       [ 68198,      0,      3],\n",
       "       [ 68666,      0,      1],\n",
       "       [ 69063,      0,      4],\n",
       "       [ 69458,      0,      2],\n",
       "       [ 69859,      0,      3],\n",
       "       [ 70259,      0,      1],\n",
       "       [ 70663,      0,      4],\n",
       "       [ 71128,      0,      2],\n",
       "       [ 71608,      0,      3],\n",
       "       [ 71991,      0,      1],\n",
       "       [ 72442,      0,      4],\n",
       "       [ 72824,      0,      2],\n",
       "       [ 73258,      0,      3],\n",
       "       [ 73718,      0,      1],\n",
       "       [ 74172,      0,      4],\n",
       "       [ 74540,      0,      2],\n",
       "       [ 74919,      0,      3],\n",
       "       [ 75305,      0,      5],\n",
       "       [ 75624,      0,     32],\n",
       "       [ 75724,      0,      4],\n",
       "       [ 76086,      0,      2],\n",
       "       [ 76479,      0,      3],\n",
       "       [ 76894,      0,      1],\n",
       "       [ 77304,      0,      4],\n",
       "       [ 77682,      0,      2],\n",
       "       [ 78130,      0,      3],\n",
       "       [ 78539,      0,      1],\n",
       "       [ 78934,      0,      4],\n",
       "       [ 79361,      0,      2],\n",
       "       [ 79819,      0,      3],\n",
       "       [ 80209,      0,      1],\n",
       "       [ 80624,      0,      4],\n",
       "       [ 81017,      0,      2],\n",
       "       [ 81440,      0,      3],\n",
       "       [ 81911,      0,      1],\n",
       "       [ 82334,      0,      4],\n",
       "       [ 82715,      0,      2],\n",
       "       [ 83150,      0,      3],\n",
       "       [ 83568,      0,      1],\n",
       "       [ 83984,      0,      4],\n",
       "       [ 84446,      0,      2],\n",
       "       [ 84898,      0,      5],\n",
       "       [ 85111,      0,     32],\n",
       "       [ 85299,      0,      1],\n",
       "       [ 85664,      0,      4],\n",
       "       [ 86107,      0,      2],\n",
       "       [ 86520,      0,      3],\n",
       "       [ 86971,      0,      1],\n",
       "       [ 87354,      0,      4],\n",
       "       [ 87724,      0,      2],\n",
       "       [ 88150,      0,      3],\n",
       "       [ 88593,      0,      1],\n",
       "       [ 89024,      0,      4],\n",
       "       [ 89496,      0,      2],\n",
       "       [ 89949,      0,      3],\n",
       "       [ 90419,      0,      1],\n",
       "       [ 90813,      0,      4],\n",
       "       [ 91194,      0,      2],\n",
       "       [ 91600,      0,      3],\n",
       "       [ 92038,      0,      1],\n",
       "       [ 92414,      0,      4],\n",
       "       [ 92801,      0,      5],\n",
       "       [ 93018,      0,     32],\n",
       "       [ 93270,      0,      3],\n",
       "       [ 93669,      0,      1],\n",
       "       [ 94094,      0,      4],\n",
       "       [ 94541,      0,      2],\n",
       "       [ 94960,      0,      3],\n",
       "       [ 95435,      0,      1],\n",
       "       [ 95883,      0,      4],\n",
       "       [ 96329,      0,      2],\n",
       "       [ 96789,      0,      3],\n",
       "       [ 97234,      0,      1],\n",
       "       [ 97703,      0,      4],\n",
       "       [ 98113,      0,      2],\n",
       "       [ 98499,      0,      3],\n",
       "       [ 98903,      0,      1],\n",
       "       [ 99363,      0,      4],\n",
       "       [ 99795,      0,      2],\n",
       "       [100159,      0,      3],\n",
       "       [100620,      0,      1],\n",
       "       [101091,      0,      5],\n",
       "       [101468,      0,      2],\n",
       "       [101540,      0,     32],\n",
       "       [101908,      0,      3],\n",
       "       [102288,      0,      1],\n",
       "       [102713,      0,      4],\n",
       "       [103192,      0,      2],\n",
       "       [103588,      0,      3],\n",
       "       [104033,      0,      1],\n",
       "       [104433,      0,      4],\n",
       "       [104909,      0,      2],\n",
       "       [105348,      0,      3],\n",
       "       [105760,      0,      1],\n",
       "       [106172,      0,      4],\n",
       "       [106620,      0,      2],\n",
       "       [106988,      0,      3],\n",
       "       [107355,      0,      1],\n",
       "       [107743,      0,      4],\n",
       "       [108170,      0,      2],\n",
       "       [108619,      0,      3],\n",
       "       [108975,      0,      5],\n",
       "       [109324,      0,     32],\n",
       "       [109364,      0,      4],\n",
       "       [109741,      0,      2],\n",
       "       [110209,      0,      3],\n",
       "       [110574,      0,      1],\n",
       "       [111004,      0,      4],\n",
       "       [111440,      0,      2],\n",
       "       [111839,      0,      3],\n",
       "       [112292,      0,      1],\n",
       "       [112743,      0,      4],\n",
       "       [113140,      0,      2],\n",
       "       [113589,      0,      3],\n",
       "       [113952,      0,      1],\n",
       "       [114324,      0,      4],\n",
       "       [114740,      0,      2],\n",
       "       [115160,      0,      3],\n",
       "       [115619,      0,      1],\n",
       "       [116083,      0,      4],\n",
       "       [116527,      0,      2],\n",
       "       [116929,      0,      3],\n",
       "       [117304,      0,      1],\n",
       "       [117714,      0,      4],\n",
       "       [118101,      0,      5],\n",
       "       [118369,      0,     32],\n",
       "       [118480,      0,      3],\n",
       "       [118879,      0,      1],\n",
       "       [119235,      0,      4],\n",
       "       [119696,      0,      2],\n",
       "       [120110,      0,      3],\n",
       "       [120539,      0,      1],\n",
       "       [120984,      0,      4],\n",
       "       [121392,      0,      2],\n",
       "       [121800,      0,      3],\n",
       "       [122218,      0,      1],\n",
       "       [122684,      0,      4],\n",
       "       [123065,      0,      2],\n",
       "       [123451,      0,      3],\n",
       "       [123931,      0,      1],\n",
       "       [124404,      0,      4],\n",
       "       [124830,      0,      2],\n",
       "       [125300,      0,      3],\n",
       "       [125709,      0,      1],\n",
       "       [126123,      0,      5],\n",
       "       [126470,      0,     32],\n",
       "       [126546,      0,      2],\n",
       "       [126950,      0,      3],\n",
       "       [127331,      0,      1],\n",
       "       [127705,      0,      4],\n",
       "       [128075,      0,      2],\n",
       "       [128511,      0,      3],\n",
       "       [128925,      0,      1],\n",
       "       [129285,      0,      4],\n",
       "       [129732,      0,      2],\n",
       "       [130111,      0,      3],\n",
       "       [130495,      0,      1],\n",
       "       [130876,      0,      4],\n",
       "       [131253,      0,      2],\n",
       "       [131672,      0,      3],\n",
       "       [132081,      0,      1],\n",
       "       [132556,      0,      4],\n",
       "       [132974,      0,      2],\n",
       "       [133451,      0,      3],\n",
       "       [133927,      0,      5],\n",
       "       [134287,      0,     32],\n",
       "       [134316,      0,      4],\n",
       "       [134729,      0,      2],\n",
       "       [135101,      0,      3],\n",
       "       [135533,      0,      1],\n",
       "       [135916,      0,      4],\n",
       "       [136285,      0,      2],\n",
       "       [136722,      0,      3],\n",
       "       [137133,      0,      1],\n",
       "       [137576,      0,      4],\n",
       "       [137993,      0,      2],\n",
       "       [138412,      0,      3],\n",
       "       [138836,      0,      1],\n",
       "       [139306,      0,      4],\n",
       "       [139737,      0,      2],\n",
       "       [140191,      0,      3],\n",
       "       [140612,      0,      1],\n",
       "       [141085,      0,      4],\n",
       "       [141562,      0,      2],\n",
       "       [141981,      0,      3],\n",
       "       [142446,      0,      5],\n",
       "       [142815,      0,     32],\n",
       "       [142826,      0,      4],\n",
       "       [143218,      0,      2],\n",
       "       [143671,      0,      3],\n",
       "       [144071,      0,      1],\n",
       "       [144545,      0,      4],\n",
       "       [144916,      0,      2],\n",
       "       [145291,      0,      3],\n",
       "       [145666,      0,      1],\n",
       "       [146085,      0,      4],\n",
       "       [146545,      0,      2],\n",
       "       [147011,      0,      3],\n",
       "       [147458,      0,      1],\n",
       "       [147855,      0,      4],\n",
       "       [148304,      0,      2],\n",
       "       [148721,      0,      3],\n",
       "       [149162,      0,      1],\n",
       "       [149555,      0,      4],\n",
       "       [149989,      0,      2],\n",
       "       [150430,      0,      3],\n",
       "       [150872,      0,      1],\n",
       "       [151265,      0,      4],\n",
       "       [151626,      0,      2],\n",
       "       [152030,      0,      5],\n",
       "       [152336,      0,     32],\n",
       "       [152426,      0,      1],\n",
       "       [152825,      0,      4],\n",
       "       [153211,      0,      2],\n",
       "       [153681,      0,      3],\n",
       "       [154080,      0,      1],\n",
       "       [154486,      0,      4],\n",
       "       [168672,      0,     32]], dtype=int64)"
      ]
     },
     "execution_count": 8,
     "metadata": {},
     "output_type": "execute_result"
    }
   ],
   "source": [
    "events\n",
    "# 第一列表示采样序号（sample number）, 第二列可以忽略， 第三列表示event的id"
   ]
  },
  {
   "cell_type": "code",
   "execution_count": 9,
   "metadata": {},
   "outputs": [
    {
     "data": {
      "text/plain": [
       "16"
      ]
     },
     "execution_count": 9,
     "metadata": {},
     "output_type": "execute_result"
    }
   ],
   "source": [
    "len(events[events[:, 2]==32])"
   ]
  },
  {
   "cell_type": "code",
   "execution_count": 10,
   "metadata": {},
   "outputs": [
    {
     "data": {
      "text/plain": [
       "<MNEBrowseFigure size 1280x960 with 5 Axes>"
      ]
     },
     "execution_count": 10,
     "metadata": {},
     "output_type": "execute_result"
    }
   ],
   "source": [
    "# 给原始数据添加上事件标签\n",
    "\n",
    "raw.plot(events=events, event_id=event_id)"
   ]
  },
  {
   "cell_type": "markdown",
   "metadata": {},
   "source": [
    "#### 更小/大的时间窗口：fn + home/end\n",
    "#### 添加注释：a（输入注释的名称） + 鼠标拖拽注释的区域\n",
    "#### butterfly plot: b(切换)"
   ]
  },
  {
   "cell_type": "code",
   "execution_count": 11,
   "metadata": {},
   "outputs": [
    {
     "data": {
      "text/html": [
       "\n",
       "<table class=\"table table-hover\">\n",
       "    <tr>\n",
       "        <th>Measurement date</th>\n",
       "        <td>December 03, 2002  19:01:10 GMT</td>\n",
       "        \n",
       "    </tr>\n",
       "    <tr>\n",
       "        <th>Experimenter</th>\n",
       "        <td>MEG</td>\n",
       "        \n",
       "    </tr>\n",
       "        <th>Participant</th>\n",
       "<td>Unknown</td>\n",
       "    </tr>\n",
       "    <tr>\n",
       "        <th>Digitized points</th>\n",
       "        <td>146 points</td>\n",
       "    </tr>\n",
       "    <tr>\n",
       "        <th>Good channels</th>\n",
       "        <td>102 magnetometer, 203 gradiometer,\n",
       "            and 59 EEG channels</td>\n",
       "    </tr>\n",
       "    <tr>\n",
       "        <th>Bad channels</th>\n",
       "        <td>MEG 2443, EEG 053</td>\n",
       "        \n",
       "    </tr>\n",
       "    <tr>\n",
       "        <th>EOG channels</th>\n",
       "        <td>EOG 061</td>\n",
       "    </tr>\n",
       "    <tr>\n",
       "        <th>ECG channels</th>\n",
       "        <td>Not available</td>\n",
       "    <tr>\n",
       "        <th>Sampling frequency</th>\n",
       "        <td>600.61 Hz</td>\n",
       "    </tr>\n",
       "    <tr>\n",
       "        <th>Highpass</th>\n",
       "        <td>0.10 Hz</td>\n",
       "    </tr>\n",
       "     <tr>\n",
       "        <th>Lowpass</th>\n",
       "        <td>172.18 Hz</td>\n",
       "    </tr>\n",
       "</table>\n"
      ],
      "text/plain": [
       "<Info | 21 non-empty values\n",
       " acq_pars: ACQch001 110113 ACQch002 110112 ACQch003 110111 ACQch004 110122 ...\n",
       " bads: 2 items (MEG 2443, EEG 053)\n",
       " ch_names: MEG 0113, MEG 0112, MEG 0111, MEG 0122, MEG 0123, MEG 0121, MEG ...\n",
       " chs: 204 GRAD, 102 MAG, 9 STIM, 60 EEG, 1 EOG\n",
       " custom_ref_applied: False\n",
       " description: acquisition (megacq) VectorView system at NMR-MGH\n",
       " dev_head_t: MEG device -> head transform\n",
       " dig: 146 items (3 Cardinal, 4 HPI, 61 EEG, 78 Extra)\n",
       " events: 1 item (list)\n",
       " experimenter: MEG\n",
       " file_id: 4 items (dict)\n",
       " highpass: 0.1 Hz\n",
       " hpi_meas: 1 item (list)\n",
       " hpi_results: 1 item (list)\n",
       " lowpass: 172.2 Hz\n",
       " meas_date: 2002-12-03 19:01:10 UTC\n",
       " meas_id: 4 items (dict)\n",
       " nchan: 376\n",
       " proj_id: 1 item (ndarray)\n",
       " proj_name: test\n",
       " projs: PCA-v1: off, PCA-v2: off, PCA-v3: off\n",
       " sfreq: 600.6 Hz\n",
       ">"
      ]
     },
     "execution_count": 11,
     "metadata": {},
     "output_type": "execute_result"
    }
   ],
   "source": [
    "raw.info"
   ]
  },
  {
   "cell_type": "code",
   "execution_count": 12,
   "metadata": {},
   "outputs": [
    {
     "data": {
      "text/plain": [
       "datetime.datetime(2002, 12, 3, 19, 1, 10, 720100, tzinfo=datetime.timezone.utc)"
      ]
     },
     "execution_count": 12,
     "metadata": {},
     "output_type": "execute_result"
    }
   ],
   "source": [
    "raw.info['meas_date']"
   ]
  },
  {
   "cell_type": "code",
   "execution_count": 13,
   "metadata": {},
   "outputs": [
    {
     "data": {
      "text/plain": [
       "<Figure size 1280x1280 with 1 Axes>"
      ]
     },
     "execution_count": 13,
     "metadata": {},
     "output_type": "execute_result"
    }
   ],
   "source": [
    "# 可视化传感器的位置\n",
    "\n",
    "raw.plot_sensors(ch_type='eeg')"
   ]
  },
  {
   "cell_type": "code",
   "execution_count": 14,
   "metadata": {},
   "outputs": [
    {
     "data": {
      "text/plain": [
       "<Figure size 1280x1280 with 1 Axes>"
      ]
     },
     "execution_count": 14,
     "metadata": {},
     "output_type": "execute_result"
    }
   ],
   "source": [
    "raw.plot_sensors(kind='3d', ch_type='eeg')"
   ]
  },
  {
   "cell_type": "code",
   "execution_count": 15,
   "metadata": {},
   "outputs": [],
   "source": [
    "# 添加bad channels\n",
    "raw.info['bads'] += ['EEG 051']"
   ]
  },
  {
   "cell_type": "code",
   "execution_count": 16,
   "metadata": {},
   "outputs": [
    {
     "data": {
      "text/plain": [
       "<Figure size 1280x1280 with 1 Axes>"
      ]
     },
     "execution_count": 16,
     "metadata": {},
     "output_type": "execute_result"
    }
   ],
   "source": [
    "raw.plot_sensors(ch_type='eeg')"
   ]
  },
  {
   "cell_type": "code",
   "execution_count": 17,
   "metadata": {},
   "outputs": [],
   "source": [
    "# 删除一个坏的通道\n",
    "raw.info['bads'].remove('EEG 051')"
   ]
  },
  {
   "cell_type": "code",
   "execution_count": 18,
   "metadata": {},
   "outputs": [
    {
     "data": {
      "text/plain": [
       "<Figure size 1280x1280 with 1 Axes>"
      ]
     },
     "execution_count": 18,
     "metadata": {},
     "output_type": "execute_result"
    }
   ],
   "source": [
    "raw.plot_sensors(ch_type='eeg')"
   ]
  },
  {
   "cell_type": "code",
   "execution_count": 19,
   "metadata": {},
   "outputs": [
    {
     "name": "stdout",
     "output_type": "stream",
     "text": [
      "<Info | 21 non-empty values\n",
      " acq_pars: ACQch001 110113 ACQch002 110112 ACQch003 110111 ACQch004 110122 ...\n",
      " bads: 2 items (MEG 2443, EEG 053)\n",
      " ch_names: MEG 0113, MEG 0112, MEG 0111, MEG 0122, MEG 0123, MEG 0121, MEG ...\n",
      " chs: 204 GRAD, 102 MAG, 9 STIM, 60 EEG, 1 EOG\n",
      " custom_ref_applied: False\n",
      " description: acquisition (megacq) VectorView system at NMR-MGH\n",
      " dev_head_t: MEG device -> head transform\n",
      " dig: 146 items (3 Cardinal, 4 HPI, 61 EEG, 78 Extra)\n",
      " events: 1 item (list)\n",
      " experimenter: MEG\n",
      " file_id: 4 items (dict)\n",
      " highpass: 0.1 Hz\n",
      " hpi_meas: 1 item (list)\n",
      " hpi_results: 1 item (list)\n",
      " lowpass: 172.2 Hz\n",
      " meas_date: 2002-12-03 19:01:10 UTC\n",
      " meas_id: 4 items (dict)\n",
      " nchan: 376\n",
      " proj_id: 1 item (ndarray)\n",
      " proj_name: test\n",
      " projs: PCA-v1: off, PCA-v2: off, PCA-v3: off\n",
      " sfreq: 600.6 Hz\n",
      ">\n"
     ]
    }
   ],
   "source": [
    "print(raw.info)"
   ]
  },
  {
   "cell_type": "code",
   "execution_count": 20,
   "metadata": {},
   "outputs": [
    {
     "name": "stdout",
     "output_type": "stream",
     "text": [
      "Removing projector <Projection | PCA-v1, active : False, n_channels : 102>\n",
      "Removing projector <Projection | PCA-v2, active : False, n_channels : 102>\n",
      "Removing projector <Projection | PCA-v3, active : False, n_channels : 102>\n"
     ]
    },
    {
     "data": {
      "text/plain": [
       "61"
      ]
     },
     "execution_count": 20,
     "metadata": {},
     "output_type": "execute_result"
    }
   ],
   "source": [
    "# 选择指定信号的通道\n",
    "\n",
    "raw_eeg = raw.copy().pick_types(meg=False, eeg=True, eog=True, exclude=[])\n",
    "\n",
    "len(raw_eeg.ch_names)"
   ]
  },
  {
   "cell_type": "code",
   "execution_count": 21,
   "metadata": {},
   "outputs": [
    {
     "name": "stdout",
     "output_type": "stream",
     "text": [
      "<Info | 20 non-empty values\n",
      " acq_pars: ACQch001 110113 ACQch002 110112 ACQch003 110111 ACQch004 110122 ...\n",
      " bads: 1 items (EEG 053)\n",
      " ch_names: EEG 001, EEG 002, EEG 003, EEG 004, EEG 005, EEG 006, EEG 007, ...\n",
      " chs: 60 EEG, 1 EOG\n",
      " custom_ref_applied: False\n",
      " description: acquisition (megacq) VectorView system at NMR-MGH\n",
      " dev_head_t: MEG device -> head transform\n",
      " dig: 146 items (3 Cardinal, 4 HPI, 61 EEG, 78 Extra)\n",
      " events: 1 item (list)\n",
      " experimenter: MEG\n",
      " file_id: 4 items (dict)\n",
      " highpass: 0.1 Hz\n",
      " hpi_meas: 1 item (list)\n",
      " hpi_results: 1 item (list)\n",
      " lowpass: 172.2 Hz\n",
      " meas_date: 2002-12-03 19:01:10 UTC\n",
      " meas_id: 4 items (dict)\n",
      " nchan: 61\n",
      " proj_id: 1 item (ndarray)\n",
      " proj_name: test\n",
      " projs: []\n",
      " sfreq: 600.6 Hz\n",
      ">\n"
     ]
    }
   ],
   "source": [
    "print(raw_eeg.info)"
   ]
  },
  {
   "cell_type": "code",
   "execution_count": 23,
   "metadata": {},
   "outputs": [
    {
     "data": {
      "text/plain": [
       "<MNEBrowseFigure size 1280x960 with 4 Axes>"
      ]
     },
     "execution_count": 23,
     "metadata": {},
     "output_type": "execute_result"
    }
   ],
   "source": [
    "raw_eeg.plot(events=events, event_id=event_id)"
   ]
  },
  {
   "cell_type": "markdown",
   "metadata": {},
   "source": [
    "### 裁剪及过滤数据\n",
    "### tmax=100, 裁剪的数据时间长度为100ms"
   ]
  },
  {
   "cell_type": "code",
   "execution_count": 44,
   "metadata": {},
   "outputs": [
    {
     "data": {
      "text/plain": [
       "99.99916914588277"
      ]
     },
     "execution_count": 44,
     "metadata": {},
     "output_type": "execute_result"
    }
   ],
   "source": [
    "raw_eeg_cropped = raw_eeg.copy().crop(tmax=100)\n",
    "raw_eeg_cropped.times[-1]"
   ]
  },
  {
   "cell_type": "code",
   "execution_count": 37,
   "metadata": {},
   "outputs": [
    {
     "name": "stdout",
     "output_type": "stream",
     "text": [
      "Reading 0 ... 60061  =      0.000 ...    99.999 secs...\n",
      "Filtering raw data in 1 contiguous segment\n",
      "Setting up band-pass filter from 0.1 - 40 Hz\n",
      "\n",
      "FIR filter parameters\n",
      "---------------------\n",
      "Designing a one-pass, zero-phase, non-causal bandpass filter:\n",
      "- Windowed time-domain design (firwin) method\n",
      "- Hamming window with 0.0194 passband ripple and 53 dB stopband attenuation\n",
      "- Lower passband edge: 0.10\n",
      "- Lower transition bandwidth: 0.10 Hz (-6 dB cutoff frequency: 0.05 Hz)\n",
      "- Upper passband edge: 40.00 Hz\n",
      "- Upper transition bandwidth: 10.00 Hz (-6 dB cutoff frequency: 45.00 Hz)\n",
      "- Filter length: 19821 samples (33.001 sec)\n",
      "\n"
     ]
    }
   ],
   "source": [
    "# filter需要将数据load进内存当中\n",
    "raw_eeg_cropped.load_data()\n",
    "raw_eeg_cropped_filter = raw_eeg_cropped.copy().filter(l_freq=0.1, h_freq=40)"
   ]
  },
  {
   "cell_type": "code",
   "execution_count": 47,
   "metadata": {},
   "outputs": [
    {
     "data": {
      "text/plain": [
       "<MNEBrowseFigure size 958x974 with 4 Axes>"
      ]
     },
     "execution_count": 47,
     "metadata": {},
     "output_type": "execute_result"
    },
    {
     "name": "stdout",
     "output_type": "stream",
     "text": [
      "Channels marked as bad: ['EEG 053']\n",
      "Channels marked as bad: ['EEG 053']\n"
     ]
    }
   ],
   "source": [
    "# 绘出过滤和未过滤的数据\n",
    "\n",
    "raw_eeg_cropped.plot(events=events, event_id=event_id, title='unfilter')\n",
    "raw_eeg_cropped_filter.plot(events=events, event_id=event_id, title='filter')"
   ]
  },
  {
   "cell_type": "code",
   "execution_count": 50,
   "metadata": {},
   "outputs": [
    {
     "name": "stdout",
     "output_type": "stream",
     "text": [
      "Effective window size : 3.410 (s)\n",
      "Effective window size : 3.410 (s)\n"
     ]
    },
    {
     "name": "stderr",
     "output_type": "stream",
     "text": [
      "d:\\anaconda\\envs\\tf2.1\\lib\\site-packages\\ipykernel_launcher.py:11: UserWarning: This figure includes Axes that are not compatible with tight_layout, so results might be incorrect.\n",
      "  # This is added back by InteractiveShellApp.init_path()\n",
      "d:\\anaconda\\envs\\tf2.1\\lib\\site-packages\\mne\\viz\\evoked.py:73: UserWarning: This figure includes Axes that are not compatible with tight_layout, so results might be incorrect.\n",
      "  event.canvas.draw()\n",
      "d:\\anaconda\\envs\\tf2.1\\lib\\site-packages\\mne\\viz\\evoked.py:80: UserWarning: This figure includes Axes that are not compatible with tight_layout, so results might be incorrect.\n",
      "  event.canvas.draw()\n",
      "d:\\anaconda\\envs\\tf2.1\\lib\\site-packages\\mne\\viz\\evoked.py:107: UserWarning: This figure includes Axes that are not compatible with tight_layout, so results might be incorrect.\n",
      "  evoked_fig.canvas.draw()\n",
      "d:\\anaconda\\envs\\tf2.1\\lib\\site-packages\\mne\\viz\\evoked.py:108: UserWarning: This figure includes Axes that are not compatible with tight_layout, so results might be incorrect.\n",
      "  evoked_fig.canvas.flush_events()\n",
      "d:\\anaconda\\envs\\tf2.1\\lib\\site-packages\\mne\\viz\\evoked.py:152: UserWarning: This figure includes Axes that are not compatible with tight_layout, so results might be incorrect.\n",
      "  evoked_fig.canvas.draw()\n",
      "d:\\anaconda\\envs\\tf2.1\\lib\\site-packages\\mne\\viz\\evoked.py:80: UserWarning: This figure includes Axes that are not compatible with tight_layout, so results might be incorrect.\n",
      "  event.canvas.draw()\n",
      "d:\\anaconda\\envs\\tf2.1\\lib\\site-packages\\mne\\viz\\evoked.py:107: UserWarning: This figure includes Axes that are not compatible with tight_layout, so results might be incorrect.\n",
      "  evoked_fig.canvas.draw()\n",
      "d:\\anaconda\\envs\\tf2.1\\lib\\site-packages\\mne\\viz\\evoked.py:108: UserWarning: This figure includes Axes that are not compatible with tight_layout, so results might be incorrect.\n",
      "  evoked_fig.canvas.flush_events()\n",
      "d:\\anaconda\\envs\\tf2.1\\lib\\site-packages\\mne\\viz\\evoked.py:152: UserWarning: This figure includes Axes that are not compatible with tight_layout, so results might be incorrect.\n",
      "  evoked_fig.canvas.draw()\n",
      "d:\\anaconda\\envs\\tf2.1\\lib\\site-packages\\mne\\viz\\evoked.py:80: UserWarning: This figure includes Axes that are not compatible with tight_layout, so results might be incorrect.\n",
      "  event.canvas.draw()\n",
      "d:\\anaconda\\envs\\tf2.1\\lib\\site-packages\\ipykernel_launcher.py:11: UserWarning: This figure includes Axes that are not compatible with tight_layout, so results might be incorrect.\n",
      "  # This is added back by InteractiveShellApp.init_path()\n",
      "d:\\anaconda\\envs\\tf2.1\\lib\\site-packages\\mne\\viz\\evoked.py:161: UserWarning: This figure includes Axes that are not compatible with tight_layout, so results might be incorrect.\n",
      "  ax.get_figure().canvas.draw()\n",
      "d:\\anaconda\\envs\\tf2.1\\lib\\site-packages\\mne\\viz\\evoked.py:107: UserWarning: This figure includes Axes that are not compatible with tight_layout, so results might be incorrect.\n",
      "  evoked_fig.canvas.draw()\n",
      "d:\\anaconda\\envs\\tf2.1\\lib\\site-packages\\mne\\viz\\evoked.py:108: UserWarning: This figure includes Axes that are not compatible with tight_layout, so results might be incorrect.\n",
      "  evoked_fig.canvas.flush_events()\n",
      "d:\\anaconda\\envs\\tf2.1\\lib\\site-packages\\mne\\viz\\evoked.py:152: UserWarning: This figure includes Axes that are not compatible with tight_layout, so results might be incorrect.\n",
      "  evoked_fig.canvas.draw()\n",
      "d:\\anaconda\\envs\\tf2.1\\lib\\site-packages\\mne\\viz\\evoked.py:161: UserWarning: This figure includes Axes that are not compatible with tight_layout, so results might be incorrect.\n",
      "  ax.get_figure().canvas.draw()\n",
      "d:\\anaconda\\envs\\tf2.1\\lib\\site-packages\\mne\\viz\\evoked.py:80: UserWarning: This figure includes Axes that are not compatible with tight_layout, so results might be incorrect.\n",
      "  event.canvas.draw()\n",
      "d:\\anaconda\\envs\\tf2.1\\lib\\site-packages\\mne\\viz\\evoked.py:107: UserWarning: This figure includes Axes that are not compatible with tight_layout, so results might be incorrect.\n",
      "  evoked_fig.canvas.draw()\n",
      "d:\\anaconda\\envs\\tf2.1\\lib\\site-packages\\mne\\viz\\evoked.py:108: UserWarning: This figure includes Axes that are not compatible with tight_layout, so results might be incorrect.\n",
      "  evoked_fig.canvas.flush_events()\n",
      "d:\\anaconda\\envs\\tf2.1\\lib\\site-packages\\mne\\viz\\evoked.py:152: UserWarning: This figure includes Axes that are not compatible with tight_layout, so results might be incorrect.\n",
      "  evoked_fig.canvas.draw()\n",
      "d:\\anaconda\\envs\\tf2.1\\lib\\site-packages\\mne\\viz\\evoked.py:161: UserWarning: This figure includes Axes that are not compatible with tight_layout, so results might be incorrect.\n",
      "  ax.get_figure().canvas.draw()\n",
      "d:\\anaconda\\envs\\tf2.1\\lib\\site-packages\\mne\\viz\\evoked.py:80: UserWarning: This figure includes Axes that are not compatible with tight_layout, so results might be incorrect.\n",
      "  event.canvas.draw()\n",
      "d:\\anaconda\\envs\\tf2.1\\lib\\site-packages\\mne\\viz\\evoked.py:107: UserWarning: This figure includes Axes that are not compatible with tight_layout, so results might be incorrect.\n",
      "  evoked_fig.canvas.draw()\n",
      "d:\\anaconda\\envs\\tf2.1\\lib\\site-packages\\mne\\viz\\evoked.py:108: UserWarning: This figure includes Axes that are not compatible with tight_layout, so results might be incorrect.\n",
      "  evoked_fig.canvas.flush_events()\n",
      "d:\\anaconda\\envs\\tf2.1\\lib\\site-packages\\mne\\viz\\evoked.py:152: UserWarning: This figure includes Axes that are not compatible with tight_layout, so results might be incorrect.\n",
      "  evoked_fig.canvas.draw()\n",
      "d:\\anaconda\\envs\\tf2.1\\lib\\site-packages\\mne\\viz\\evoked.py:161: UserWarning: This figure includes Axes that are not compatible with tight_layout, so results might be incorrect.\n",
      "  ax.get_figure().canvas.draw()\n",
      "d:\\anaconda\\envs\\tf2.1\\lib\\site-packages\\mne\\viz\\evoked.py:73: UserWarning: This figure includes Axes that are not compatible with tight_layout, so results might be incorrect.\n",
      "  event.canvas.draw()\n",
      "d:\\anaconda\\envs\\tf2.1\\lib\\site-packages\\ipykernel_launcher.py:11: UserWarning: This figure includes Axes that are not compatible with tight_layout, so results might be incorrect.\n",
      "  # This is added back by InteractiveShellApp.init_path()\n",
      "d:\\anaconda\\envs\\tf2.1\\lib\\site-packages\\mne\\viz\\evoked.py:80: UserWarning: This figure includes Axes that are not compatible with tight_layout, so results might be incorrect.\n",
      "  event.canvas.draw()\n",
      "d:\\anaconda\\envs\\tf2.1\\lib\\site-packages\\ipykernel_launcher.py:11: UserWarning: This figure includes Axes that are not compatible with tight_layout, so results might be incorrect.\n",
      "  # This is added back by InteractiveShellApp.init_path()\n",
      "d:\\anaconda\\envs\\tf2.1\\lib\\site-packages\\mne\\viz\\evoked.py:80: UserWarning: This figure includes Axes that are not compatible with tight_layout, so results might be incorrect.\n",
      "  event.canvas.draw()\n",
      "d:\\anaconda\\envs\\tf2.1\\lib\\site-packages\\ipykernel_launcher.py:11: UserWarning: This figure includes Axes that are not compatible with tight_layout, so results might be incorrect.\n",
      "  # This is added back by InteractiveShellApp.init_path()\n",
      "d:\\anaconda\\envs\\tf2.1\\lib\\site-packages\\mne\\viz\\evoked.py:80: UserWarning: This figure includes Axes that are not compatible with tight_layout, so results might be incorrect.\n",
      "  event.canvas.draw()\n",
      "d:\\anaconda\\envs\\tf2.1\\lib\\site-packages\\ipykernel_launcher.py:11: UserWarning: This figure includes Axes that are not compatible with tight_layout, so results might be incorrect.\n",
      "  # This is added back by InteractiveShellApp.init_path()\n",
      "d:\\anaconda\\envs\\tf2.1\\lib\\site-packages\\mne\\viz\\evoked.py:80: UserWarning: This figure includes Axes that are not compatible with tight_layout, so results might be incorrect.\n",
      "  event.canvas.draw()\n",
      "d:\\anaconda\\envs\\tf2.1\\lib\\site-packages\\ipykernel_launcher.py:11: UserWarning: This figure includes Axes that are not compatible with tight_layout, so results might be incorrect.\n",
      "  # This is added back by InteractiveShellApp.init_path()\n",
      "d:\\anaconda\\envs\\tf2.1\\lib\\site-packages\\mne\\viz\\evoked.py:80: UserWarning: This figure includes Axes that are not compatible with tight_layout, so results might be incorrect.\n",
      "  event.canvas.draw()\n",
      "d:\\anaconda\\envs\\tf2.1\\lib\\site-packages\\ipykernel_launcher.py:11: UserWarning: This figure includes Axes that are not compatible with tight_layout, so results might be incorrect.\n",
      "  # This is added back by InteractiveShellApp.init_path()\n"
     ]
    },
    {
     "name": "stderr",
     "output_type": "stream",
     "text": [
      "d:\\anaconda\\envs\\tf2.1\\lib\\site-packages\\mne\\viz\\evoked.py:80: UserWarning: This figure includes Axes that are not compatible with tight_layout, so results might be incorrect.\n",
      "  event.canvas.draw()\n",
      "d:\\anaconda\\envs\\tf2.1\\lib\\site-packages\\ipykernel_launcher.py:11: UserWarning: This figure includes Axes that are not compatible with tight_layout, so results might be incorrect.\n",
      "  # This is added back by InteractiveShellApp.init_path()\n",
      "d:\\anaconda\\envs\\tf2.1\\lib\\site-packages\\mne\\viz\\evoked.py:80: UserWarning: This figure includes Axes that are not compatible with tight_layout, so results might be incorrect.\n",
      "  event.canvas.draw()\n",
      "d:\\anaconda\\envs\\tf2.1\\lib\\site-packages\\ipykernel_launcher.py:11: UserWarning: This figure includes Axes that are not compatible with tight_layout, so results might be incorrect.\n",
      "  # This is added back by InteractiveShellApp.init_path()\n",
      "d:\\anaconda\\envs\\tf2.1\\lib\\site-packages\\mne\\viz\\evoked.py:80: UserWarning: This figure includes Axes that are not compatible with tight_layout, so results might be incorrect.\n",
      "  event.canvas.draw()\n",
      "d:\\anaconda\\envs\\tf2.1\\lib\\site-packages\\ipykernel_launcher.py:11: UserWarning: This figure includes Axes that are not compatible with tight_layout, so results might be incorrect.\n",
      "  # This is added back by InteractiveShellApp.init_path()\n",
      "d:\\anaconda\\envs\\tf2.1\\lib\\site-packages\\mne\\viz\\evoked.py:80: UserWarning: This figure includes Axes that are not compatible with tight_layout, so results might be incorrect.\n",
      "  event.canvas.draw()\n",
      "d:\\anaconda\\envs\\tf2.1\\lib\\site-packages\\ipykernel_launcher.py:11: UserWarning: This figure includes Axes that are not compatible with tight_layout, so results might be incorrect.\n",
      "  # This is added back by InteractiveShellApp.init_path()\n",
      "d:\\anaconda\\envs\\tf2.1\\lib\\site-packages\\mne\\viz\\evoked.py:80: UserWarning: This figure includes Axes that are not compatible with tight_layout, so results might be incorrect.\n",
      "  event.canvas.draw()\n",
      "d:\\anaconda\\envs\\tf2.1\\lib\\site-packages\\ipykernel_launcher.py:11: UserWarning: This figure includes Axes that are not compatible with tight_layout, so results might be incorrect.\n",
      "  # This is added back by InteractiveShellApp.init_path()\n",
      "d:\\anaconda\\envs\\tf2.1\\lib\\site-packages\\mne\\viz\\evoked.py:80: UserWarning: This figure includes Axes that are not compatible with tight_layout, so results might be incorrect.\n",
      "  event.canvas.draw()\n",
      "d:\\anaconda\\envs\\tf2.1\\lib\\site-packages\\mne\\viz\\evoked.py:107: UserWarning: This figure includes Axes that are not compatible with tight_layout, so results might be incorrect.\n",
      "  evoked_fig.canvas.draw()\n",
      "d:\\anaconda\\envs\\tf2.1\\lib\\site-packages\\mne\\viz\\evoked.py:108: UserWarning: This figure includes Axes that are not compatible with tight_layout, so results might be incorrect.\n",
      "  evoked_fig.canvas.flush_events()\n",
      "d:\\anaconda\\envs\\tf2.1\\lib\\site-packages\\mne\\viz\\evoked.py:152: UserWarning: This figure includes Axes that are not compatible with tight_layout, so results might be incorrect.\n",
      "  evoked_fig.canvas.draw()\n",
      "d:\\anaconda\\envs\\tf2.1\\lib\\site-packages\\mne\\viz\\evoked.py:161: UserWarning: This figure includes Axes that are not compatible with tight_layout, so results might be incorrect.\n",
      "  ax.get_figure().canvas.draw()\n",
      "d:\\anaconda\\envs\\tf2.1\\lib\\site-packages\\mne\\viz\\evoked.py:80: UserWarning: This figure includes Axes that are not compatible with tight_layout, so results might be incorrect.\n",
      "  event.canvas.draw()\n",
      "d:\\anaconda\\envs\\tf2.1\\lib\\site-packages\\mne\\viz\\evoked.py:107: UserWarning: This figure includes Axes that are not compatible with tight_layout, so results might be incorrect.\n",
      "  evoked_fig.canvas.draw()\n",
      "d:\\anaconda\\envs\\tf2.1\\lib\\site-packages\\mne\\viz\\evoked.py:108: UserWarning: This figure includes Axes that are not compatible with tight_layout, so results might be incorrect.\n",
      "  evoked_fig.canvas.flush_events()\n",
      "d:\\anaconda\\envs\\tf2.1\\lib\\site-packages\\mne\\viz\\evoked.py:152: UserWarning: This figure includes Axes that are not compatible with tight_layout, so results might be incorrect.\n",
      "  evoked_fig.canvas.draw()\n",
      "d:\\anaconda\\envs\\tf2.1\\lib\\site-packages\\mne\\viz\\evoked.py:80: UserWarning: This figure includes Axes that are not compatible with tight_layout, so results might be incorrect.\n",
      "  event.canvas.draw()\n",
      "d:\\anaconda\\envs\\tf2.1\\lib\\site-packages\\ipykernel_launcher.py:11: UserWarning: This figure includes Axes that are not compatible with tight_layout, so results might be incorrect.\n",
      "  # This is added back by InteractiveShellApp.init_path()\n",
      "d:\\anaconda\\envs\\tf2.1\\lib\\site-packages\\ipykernel_launcher.py:11: UserWarning: This figure includes Axes that are not compatible with tight_layout, so results might be incorrect.\n",
      "  # This is added back by InteractiveShellApp.init_path()\n",
      "d:\\anaconda\\envs\\tf2.1\\lib\\site-packages\\mne\\viz\\evoked.py:80: UserWarning: This figure includes Axes that are not compatible with tight_layout, so results might be incorrect.\n",
      "  event.canvas.draw()\n",
      "d:\\anaconda\\envs\\tf2.1\\lib\\site-packages\\ipykernel_launcher.py:11: UserWarning: This figure includes Axes that are not compatible with tight_layout, so results might be incorrect.\n",
      "  # This is added back by InteractiveShellApp.init_path()\n",
      "d:\\anaconda\\envs\\tf2.1\\lib\\site-packages\\mne\\viz\\evoked.py:80: UserWarning: This figure includes Axes that are not compatible with tight_layout, so results might be incorrect.\n",
      "  event.canvas.draw()\n",
      "d:\\anaconda\\envs\\tf2.1\\lib\\site-packages\\ipykernel_launcher.py:11: UserWarning: This figure includes Axes that are not compatible with tight_layout, so results might be incorrect.\n",
      "  # This is added back by InteractiveShellApp.init_path()\n",
      "d:\\anaconda\\envs\\tf2.1\\lib\\site-packages\\mne\\viz\\evoked.py:80: UserWarning: This figure includes Axes that are not compatible with tight_layout, so results might be incorrect.\n",
      "  event.canvas.draw()\n",
      "d:\\anaconda\\envs\\tf2.1\\lib\\site-packages\\mne\\viz\\evoked.py:80: UserWarning: This figure includes Axes that are not compatible with tight_layout, so results might be incorrect.\n",
      "  event.canvas.draw()\n",
      "d:\\anaconda\\envs\\tf2.1\\lib\\site-packages\\ipykernel_launcher.py:11: UserWarning: This figure includes Axes that are not compatible with tight_layout, so results might be incorrect.\n",
      "  # This is added back by InteractiveShellApp.init_path()\n",
      "d:\\anaconda\\envs\\tf2.1\\lib\\site-packages\\ipykernel_launcher.py:11: UserWarning: This figure includes Axes that are not compatible with tight_layout, so results might be incorrect.\n",
      "  # This is added back by InteractiveShellApp.init_path()\n",
      "d:\\anaconda\\envs\\tf2.1\\lib\\site-packages\\mne\\viz\\evoked.py:80: UserWarning: This figure includes Axes that are not compatible with tight_layout, so results might be incorrect.\n",
      "  event.canvas.draw()\n",
      "d:\\anaconda\\envs\\tf2.1\\lib\\site-packages\\ipykernel_launcher.py:11: UserWarning: This figure includes Axes that are not compatible with tight_layout, so results might be incorrect.\n",
      "  # This is added back by InteractiveShellApp.init_path()\n",
      "d:\\anaconda\\envs\\tf2.1\\lib\\site-packages\\mne\\viz\\evoked.py:161: UserWarning: This figure includes Axes that are not compatible with tight_layout, so results might be incorrect.\n",
      "  ax.get_figure().canvas.draw()\n"
     ]
    }
   ],
   "source": [
    "import matplotlib.pyplot as plt\n",
    "\n",
    "fig, ax = plt.subplots(2)\n",
    "raw_eeg_cropped.plot_psd(ax=ax[0], show=False)\n",
    "raw_eeg_cropped_filter.plot_psd(ax=ax[1], show=False)\n",
    "\n",
    "ax[0].set_title('PSD before filtering')\n",
    "ax[1].set_title('PSD after filtering')\n",
    "ax[1].set_xlabel('Frequency (Hz)')\n",
    "fig.set_tight_layout(True)\n",
    "plt.show()"
   ]
  },
  {
   "cell_type": "markdown",
   "metadata": {},
   "source": [
    "### 保存数据"
   ]
  },
  {
   "cell_type": "code",
   "execution_count": 52,
   "metadata": {},
   "outputs": [
    {
     "name": "stdout",
     "output_type": "stream",
     "text": [
      "Writing D:\\研究生\\mne\\mne_data\\out_data\\eeg_cropped_filter_raw.fif\n",
      "Closing D:\\研究生\\mne\\mne_data\\out_data\\eeg_cropped_filter_raw.fif\n",
      "[done]\n"
     ]
    }
   ],
   "source": [
    "raw_eeg_cropped_filter.save(pathlib.Path('out_data') / 'eeg_cropped_filter_raw.fif', overwrite=True)\n"
   ]
  },
  {
   "cell_type": "code",
   "execution_count": null,
   "metadata": {},
   "outputs": [],
   "source": []
  }
 ],
 "metadata": {
  "kernelspec": {
   "display_name": "Python 3",
   "language": "python",
   "name": "python3"
  },
  "language_info": {
   "codemirror_mode": {
    "name": "ipython",
    "version": 3
   },
   "file_extension": ".py",
   "mimetype": "text/x-python",
   "name": "python",
   "nbconvert_exporter": "python",
   "pygments_lexer": "ipython3",
   "version": "3.7.9"
  }
 },
 "nbformat": 4,
 "nbformat_minor": 2
}
